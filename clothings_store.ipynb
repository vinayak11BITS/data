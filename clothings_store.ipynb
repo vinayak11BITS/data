{
 "cells": [
  {
   "cell_type": "code",
   "execution_count": 98,
   "metadata": {},
   "outputs": [],
   "source": [
    "#importing all the relevant modules\n",
    "import pandas as pd\n",
    "import seaborn as sns\n",
    "import matplotlib.pyplot as plt"
   ]
  },
  {
   "cell_type": "code",
   "execution_count": 4,
   "metadata": {},
   "outputs": [],
   "source": [
    "#loading the data frame\n",
    "df=pd.read_csv('C:\\\\Users\\\\vinayak\\\\Downloads\\\\D6_Sessions_practise\\\\FyntraCustomerData.csv')"
   ]
  },
  {
   "cell_type": "code",
   "execution_count": 6,
   "metadata": {},
   "outputs": [
    {
     "data": {
      "text/html": [
       "<div>\n",
       "<style scoped>\n",
       "    .dataframe tbody tr th:only-of-type {\n",
       "        vertical-align: middle;\n",
       "    }\n",
       "\n",
       "    .dataframe tbody tr th {\n",
       "        vertical-align: top;\n",
       "    }\n",
       "\n",
       "    .dataframe thead th {\n",
       "        text-align: right;\n",
       "    }\n",
       "</style>\n",
       "<table border=\"1\" class=\"dataframe\">\n",
       "  <thead>\n",
       "    <tr style=\"text-align: right;\">\n",
       "      <th></th>\n",
       "      <th>Email</th>\n",
       "      <th>Address</th>\n",
       "      <th>Avatar</th>\n",
       "      <th>Avg_Session_Length</th>\n",
       "      <th>Time_on_App</th>\n",
       "      <th>Time_on_Website</th>\n",
       "      <th>Length_of_Membership</th>\n",
       "      <th>Yearly_Amount_Spent</th>\n",
       "    </tr>\n",
       "  </thead>\n",
       "  <tbody>\n",
       "    <tr>\n",
       "      <th>0</th>\n",
       "      <td>mstephenson@fernandez.com</td>\n",
       "      <td>835 Frank Tunnel\\nWrightmouth, MI 82180-9605</td>\n",
       "      <td>Violet</td>\n",
       "      <td>34.497268</td>\n",
       "      <td>12.655651</td>\n",
       "      <td>39.577668</td>\n",
       "      <td>4.082621</td>\n",
       "      <td>587.951054</td>\n",
       "    </tr>\n",
       "    <tr>\n",
       "      <th>1</th>\n",
       "      <td>hduke@hotmail.com</td>\n",
       "      <td>4547 Archer Common\\nDiazchester, CA 06566-8576</td>\n",
       "      <td>DarkGreen</td>\n",
       "      <td>31.926272</td>\n",
       "      <td>11.109461</td>\n",
       "      <td>37.268959</td>\n",
       "      <td>2.664034</td>\n",
       "      <td>392.204933</td>\n",
       "    </tr>\n",
       "    <tr>\n",
       "      <th>2</th>\n",
       "      <td>pallen@yahoo.com</td>\n",
       "      <td>24645 Valerie Unions Suite 582\\nCobbborough, D...</td>\n",
       "      <td>Bisque</td>\n",
       "      <td>33.000915</td>\n",
       "      <td>11.330278</td>\n",
       "      <td>37.110597</td>\n",
       "      <td>4.104543</td>\n",
       "      <td>487.547505</td>\n",
       "    </tr>\n",
       "    <tr>\n",
       "      <th>3</th>\n",
       "      <td>riverarebecca@gmail.com</td>\n",
       "      <td>1414 David Throughway\\nPort Jason, OH 22070-1220</td>\n",
       "      <td>SaddleBrown</td>\n",
       "      <td>34.305557</td>\n",
       "      <td>13.717514</td>\n",
       "      <td>36.721283</td>\n",
       "      <td>3.120179</td>\n",
       "      <td>581.852344</td>\n",
       "    </tr>\n",
       "    <tr>\n",
       "      <th>4</th>\n",
       "      <td>mstephens@davidson-herman.com</td>\n",
       "      <td>14023 Rodriguez Passage\\nPort Jacobville, PR 3...</td>\n",
       "      <td>MediumAquaMarine</td>\n",
       "      <td>33.330673</td>\n",
       "      <td>12.795189</td>\n",
       "      <td>37.536653</td>\n",
       "      <td>4.446308</td>\n",
       "      <td>599.406092</td>\n",
       "    </tr>\n",
       "    <tr>\n",
       "      <th>...</th>\n",
       "      <td>...</td>\n",
       "      <td>...</td>\n",
       "      <td>...</td>\n",
       "      <td>...</td>\n",
       "      <td>...</td>\n",
       "      <td>...</td>\n",
       "      <td>...</td>\n",
       "      <td>...</td>\n",
       "    </tr>\n",
       "    <tr>\n",
       "      <th>495</th>\n",
       "      <td>lewisjessica@craig-evans.com</td>\n",
       "      <td>4483 Jones Motorway Suite 872\\nLake Jamiefurt,...</td>\n",
       "      <td>Tan</td>\n",
       "      <td>33.237660</td>\n",
       "      <td>13.566160</td>\n",
       "      <td>36.417985</td>\n",
       "      <td>3.746573</td>\n",
       "      <td>573.847438</td>\n",
       "    </tr>\n",
       "    <tr>\n",
       "      <th>496</th>\n",
       "      <td>katrina56@gmail.com</td>\n",
       "      <td>172 Owen Divide Suite 497\\nWest Richard, CA 19320</td>\n",
       "      <td>PaleVioletRed</td>\n",
       "      <td>34.702529</td>\n",
       "      <td>11.695736</td>\n",
       "      <td>37.190268</td>\n",
       "      <td>3.576526</td>\n",
       "      <td>529.049004</td>\n",
       "    </tr>\n",
       "    <tr>\n",
       "      <th>497</th>\n",
       "      <td>dale88@hotmail.com</td>\n",
       "      <td>0787 Andrews Ranch Apt. 633\\nSouth Chadburgh, ...</td>\n",
       "      <td>Cornsilk</td>\n",
       "      <td>32.646777</td>\n",
       "      <td>11.499409</td>\n",
       "      <td>38.332576</td>\n",
       "      <td>4.958264</td>\n",
       "      <td>551.620146</td>\n",
       "    </tr>\n",
       "    <tr>\n",
       "      <th>498</th>\n",
       "      <td>cwilson@hotmail.com</td>\n",
       "      <td>680 Jennifer Lodge Apt. 808\\nBrendachester, TX...</td>\n",
       "      <td>Teal</td>\n",
       "      <td>33.322501</td>\n",
       "      <td>12.391423</td>\n",
       "      <td>36.840086</td>\n",
       "      <td>2.336485</td>\n",
       "      <td>456.469510</td>\n",
       "    </tr>\n",
       "    <tr>\n",
       "      <th>499</th>\n",
       "      <td>hannahwilson@davidson.com</td>\n",
       "      <td>49791 Rachel Heights Apt. 898\\nEast Drewboroug...</td>\n",
       "      <td>DarkMagenta</td>\n",
       "      <td>33.715981</td>\n",
       "      <td>12.418808</td>\n",
       "      <td>35.771016</td>\n",
       "      <td>2.735160</td>\n",
       "      <td>497.778642</td>\n",
       "    </tr>\n",
       "  </tbody>\n",
       "</table>\n",
       "<p>500 rows × 8 columns</p>\n",
       "</div>"
      ],
      "text/plain": [
       "                             Email  \\\n",
       "0        mstephenson@fernandez.com   \n",
       "1                hduke@hotmail.com   \n",
       "2                 pallen@yahoo.com   \n",
       "3          riverarebecca@gmail.com   \n",
       "4    mstephens@davidson-herman.com   \n",
       "..                             ...   \n",
       "495   lewisjessica@craig-evans.com   \n",
       "496            katrina56@gmail.com   \n",
       "497             dale88@hotmail.com   \n",
       "498            cwilson@hotmail.com   \n",
       "499      hannahwilson@davidson.com   \n",
       "\n",
       "                                               Address            Avatar  \\\n",
       "0         835 Frank Tunnel\\nWrightmouth, MI 82180-9605            Violet   \n",
       "1       4547 Archer Common\\nDiazchester, CA 06566-8576         DarkGreen   \n",
       "2    24645 Valerie Unions Suite 582\\nCobbborough, D...            Bisque   \n",
       "3     1414 David Throughway\\nPort Jason, OH 22070-1220       SaddleBrown   \n",
       "4    14023 Rodriguez Passage\\nPort Jacobville, PR 3...  MediumAquaMarine   \n",
       "..                                                 ...               ...   \n",
       "495  4483 Jones Motorway Suite 872\\nLake Jamiefurt,...               Tan   \n",
       "496  172 Owen Divide Suite 497\\nWest Richard, CA 19320     PaleVioletRed   \n",
       "497  0787 Andrews Ranch Apt. 633\\nSouth Chadburgh, ...          Cornsilk   \n",
       "498  680 Jennifer Lodge Apt. 808\\nBrendachester, TX...              Teal   \n",
       "499  49791 Rachel Heights Apt. 898\\nEast Drewboroug...       DarkMagenta   \n",
       "\n",
       "     Avg_Session_Length  Time_on_App  Time_on_Website  Length_of_Membership  \\\n",
       "0             34.497268    12.655651        39.577668              4.082621   \n",
       "1             31.926272    11.109461        37.268959              2.664034   \n",
       "2             33.000915    11.330278        37.110597              4.104543   \n",
       "3             34.305557    13.717514        36.721283              3.120179   \n",
       "4             33.330673    12.795189        37.536653              4.446308   \n",
       "..                  ...          ...              ...                   ...   \n",
       "495           33.237660    13.566160        36.417985              3.746573   \n",
       "496           34.702529    11.695736        37.190268              3.576526   \n",
       "497           32.646777    11.499409        38.332576              4.958264   \n",
       "498           33.322501    12.391423        36.840086              2.336485   \n",
       "499           33.715981    12.418808        35.771016              2.735160   \n",
       "\n",
       "     Yearly_Amount_Spent  \n",
       "0             587.951054  \n",
       "1             392.204933  \n",
       "2             487.547505  \n",
       "3             581.852344  \n",
       "4             599.406092  \n",
       "..                   ...  \n",
       "495           573.847438  \n",
       "496           529.049004  \n",
       "497           551.620146  \n",
       "498           456.469510  \n",
       "499           497.778642  \n",
       "\n",
       "[500 rows x 8 columns]"
      ]
     },
     "execution_count": 6,
     "metadata": {},
     "output_type": "execute_result"
    }
   ],
   "source": [
    "df"
   ]
  },
  {
   "cell_type": "code",
   "execution_count": 9,
   "metadata": {},
   "outputs": [],
   "source": [
    "df1=df[['Time_on_Website','Yearly_Amount_Spent']]\n"
   ]
  },
  {
   "cell_type": "code",
   "execution_count": 11,
   "metadata": {},
   "outputs": [
    {
     "data": {
      "text/html": [
       "<div>\n",
       "<style scoped>\n",
       "    .dataframe tbody tr th:only-of-type {\n",
       "        vertical-align: middle;\n",
       "    }\n",
       "\n",
       "    .dataframe tbody tr th {\n",
       "        vertical-align: top;\n",
       "    }\n",
       "\n",
       "    .dataframe thead th {\n",
       "        text-align: right;\n",
       "    }\n",
       "</style>\n",
       "<table border=\"1\" class=\"dataframe\">\n",
       "  <thead>\n",
       "    <tr style=\"text-align: right;\">\n",
       "      <th></th>\n",
       "      <th>Time_on_Website</th>\n",
       "      <th>Yearly_Amount_Spent</th>\n",
       "    </tr>\n",
       "  </thead>\n",
       "  <tbody>\n",
       "    <tr>\n",
       "      <th>0</th>\n",
       "      <td>39.577668</td>\n",
       "      <td>587.951054</td>\n",
       "    </tr>\n",
       "    <tr>\n",
       "      <th>1</th>\n",
       "      <td>37.268959</td>\n",
       "      <td>392.204933</td>\n",
       "    </tr>\n",
       "    <tr>\n",
       "      <th>2</th>\n",
       "      <td>37.110597</td>\n",
       "      <td>487.547505</td>\n",
       "    </tr>\n",
       "    <tr>\n",
       "      <th>3</th>\n",
       "      <td>36.721283</td>\n",
       "      <td>581.852344</td>\n",
       "    </tr>\n",
       "    <tr>\n",
       "      <th>4</th>\n",
       "      <td>37.536653</td>\n",
       "      <td>599.406092</td>\n",
       "    </tr>\n",
       "    <tr>\n",
       "      <th>...</th>\n",
       "      <td>...</td>\n",
       "      <td>...</td>\n",
       "    </tr>\n",
       "    <tr>\n",
       "      <th>495</th>\n",
       "      <td>36.417985</td>\n",
       "      <td>573.847438</td>\n",
       "    </tr>\n",
       "    <tr>\n",
       "      <th>496</th>\n",
       "      <td>37.190268</td>\n",
       "      <td>529.049004</td>\n",
       "    </tr>\n",
       "    <tr>\n",
       "      <th>497</th>\n",
       "      <td>38.332576</td>\n",
       "      <td>551.620146</td>\n",
       "    </tr>\n",
       "    <tr>\n",
       "      <th>498</th>\n",
       "      <td>36.840086</td>\n",
       "      <td>456.469510</td>\n",
       "    </tr>\n",
       "    <tr>\n",
       "      <th>499</th>\n",
       "      <td>35.771016</td>\n",
       "      <td>497.778642</td>\n",
       "    </tr>\n",
       "  </tbody>\n",
       "</table>\n",
       "<p>500 rows × 2 columns</p>\n",
       "</div>"
      ],
      "text/plain": [
       "     Time_on_Website  Yearly_Amount_Spent\n",
       "0          39.577668           587.951054\n",
       "1          37.268959           392.204933\n",
       "2          37.110597           487.547505\n",
       "3          36.721283           581.852344\n",
       "4          37.536653           599.406092\n",
       "..               ...                  ...\n",
       "495        36.417985           573.847438\n",
       "496        37.190268           529.049004\n",
       "497        38.332576           551.620146\n",
       "498        36.840086           456.469510\n",
       "499        35.771016           497.778642\n",
       "\n",
       "[500 rows x 2 columns]"
      ]
     },
     "execution_count": 11,
     "metadata": {},
     "output_type": "execute_result"
    }
   ],
   "source": [
    "df1"
   ]
  },
  {
   "cell_type": "code",
   "execution_count": 13,
   "metadata": {},
   "outputs": [
    {
     "data": {
      "text/html": [
       "<div>\n",
       "<style scoped>\n",
       "    .dataframe tbody tr th:only-of-type {\n",
       "        vertical-align: middle;\n",
       "    }\n",
       "\n",
       "    .dataframe tbody tr th {\n",
       "        vertical-align: top;\n",
       "    }\n",
       "\n",
       "    .dataframe thead th {\n",
       "        text-align: right;\n",
       "    }\n",
       "</style>\n",
       "<table border=\"1\" class=\"dataframe\">\n",
       "  <thead>\n",
       "    <tr style=\"text-align: right;\">\n",
       "      <th></th>\n",
       "      <th>Time_on_Website</th>\n",
       "      <th>Yearly_Amount_Spent</th>\n",
       "    </tr>\n",
       "  </thead>\n",
       "  <tbody>\n",
       "    <tr>\n",
       "      <th>Time_on_Website</th>\n",
       "      <td>1.000000</td>\n",
       "      <td>-0.002641</td>\n",
       "    </tr>\n",
       "    <tr>\n",
       "      <th>Yearly_Amount_Spent</th>\n",
       "      <td>-0.002641</td>\n",
       "      <td>1.000000</td>\n",
       "    </tr>\n",
       "  </tbody>\n",
       "</table>\n",
       "</div>"
      ],
      "text/plain": [
       "                     Time_on_Website  Yearly_Amount_Spent\n",
       "Time_on_Website             1.000000            -0.002641\n",
       "Yearly_Amount_Spent        -0.002641             1.000000"
      ]
     },
     "execution_count": 13,
     "metadata": {},
     "output_type": "execute_result"
    }
   ],
   "source": [
    "df1.corr()"
   ]
  },
  {
   "cell_type": "code",
   "execution_count": 23,
   "metadata": {},
   "outputs": [
    {
     "data": {
      "text/plain": [
       "<matplotlib.axes._subplots.AxesSubplot at 0x2324320da08>"
      ]
     },
     "execution_count": 23,
     "metadata": {},
     "output_type": "execute_result"
    },
    {
     "data": {
      "image/png": "[encoded data removed]",
      "text/plain": [
       "<Figure size 432x288 with 1 Axes>"
      ]
     },
     "metadata": {
      "needs_background": "light"
     },
     "output_type": "display_data"
    }
   ],
   "source": [
    "sns.scatterplot(x=df1['Time_on_Website'],y=df1['Yearly_Amount_Spent'])"
   ]
  },
  {
   "cell_type": "code",
   "execution_count": 17,
   "metadata": {},
   "outputs": [],
   "source": [
    "df2=df[['Time_on_App','Yearly_Amount_Spent']]"
   ]
  },
  {
   "cell_type": "code",
   "execution_count": 19,
   "metadata": {},
   "outputs": [
    {
     "data": {
      "text/html": [
       "<div>\n",
       "<style scoped>\n",
       "    .dataframe tbody tr th:only-of-type {\n",
       "        vertical-align: middle;\n",
       "    }\n",
       "\n",
       "    .dataframe tbody tr th {\n",
       "        vertical-align: top;\n",
       "    }\n",
       "\n",
       "    .dataframe thead th {\n",
       "        text-align: right;\n",
       "    }\n",
       "</style>\n",
       "<table border=\"1\" class=\"dataframe\">\n",
       "  <thead>\n",
       "    <tr style=\"text-align: right;\">\n",
       "      <th></th>\n",
       "      <th>Time_on_App</th>\n",
       "      <th>Yearly_Amount_Spent</th>\n",
       "    </tr>\n",
       "  </thead>\n",
       "  <tbody>\n",
       "    <tr>\n",
       "      <th>0</th>\n",
       "      <td>12.655651</td>\n",
       "      <td>587.951054</td>\n",
       "    </tr>\n",
       "    <tr>\n",
       "      <th>1</th>\n",
       "      <td>11.109461</td>\n",
       "      <td>392.204933</td>\n",
       "    </tr>\n",
       "    <tr>\n",
       "      <th>2</th>\n",
       "      <td>11.330278</td>\n",
       "      <td>487.547505</td>\n",
       "    </tr>\n",
       "    <tr>\n",
       "      <th>3</th>\n",
       "      <td>13.717514</td>\n",
       "      <td>581.852344</td>\n",
       "    </tr>\n",
       "    <tr>\n",
       "      <th>4</th>\n",
       "      <td>12.795189</td>\n",
       "      <td>599.406092</td>\n",
       "    </tr>\n",
       "    <tr>\n",
       "      <th>...</th>\n",
       "      <td>...</td>\n",
       "      <td>...</td>\n",
       "    </tr>\n",
       "    <tr>\n",
       "      <th>495</th>\n",
       "      <td>13.566160</td>\n",
       "      <td>573.847438</td>\n",
       "    </tr>\n",
       "    <tr>\n",
       "      <th>496</th>\n",
       "      <td>11.695736</td>\n",
       "      <td>529.049004</td>\n",
       "    </tr>\n",
       "    <tr>\n",
       "      <th>497</th>\n",
       "      <td>11.499409</td>\n",
       "      <td>551.620146</td>\n",
       "    </tr>\n",
       "    <tr>\n",
       "      <th>498</th>\n",
       "      <td>12.391423</td>\n",
       "      <td>456.469510</td>\n",
       "    </tr>\n",
       "    <tr>\n",
       "      <th>499</th>\n",
       "      <td>12.418808</td>\n",
       "      <td>497.778642</td>\n",
       "    </tr>\n",
       "  </tbody>\n",
       "</table>\n",
       "<p>500 rows × 2 columns</p>\n",
       "</div>"
      ],
      "text/plain": [
       "     Time_on_App  Yearly_Amount_Spent\n",
       "0      12.655651           587.951054\n",
       "1      11.109461           392.204933\n",
       "2      11.330278           487.547505\n",
       "3      13.717514           581.852344\n",
       "4      12.795189           599.406092\n",
       "..           ...                  ...\n",
       "495    13.566160           573.847438\n",
       "496    11.695736           529.049004\n",
       "497    11.499409           551.620146\n",
       "498    12.391423           456.469510\n",
       "499    12.418808           497.778642\n",
       "\n",
       "[500 rows x 2 columns]"
      ]
     },
     "execution_count": 19,
     "metadata": {},
     "output_type": "execute_result"
    }
   ],
   "source": [
    "df2"
   ]
  },
  {
   "cell_type": "code",
   "execution_count": 24,
   "metadata": {},
   "outputs": [
    {
     "data": {
      "text/html": [
       "<div>\n",
       "<style scoped>\n",
       "    .dataframe tbody tr th:only-of-type {\n",
       "        vertical-align: middle;\n",
       "    }\n",
       "\n",
       "    .dataframe tbody tr th {\n",
       "        vertical-align: top;\n",
       "    }\n",
       "\n",
       "    .dataframe thead th {\n",
       "        text-align: right;\n",
       "    }\n",
       "</style>\n",
       "<table border=\"1\" class=\"dataframe\">\n",
       "  <thead>\n",
       "    <tr style=\"text-align: right;\">\n",
       "      <th></th>\n",
       "      <th>Time_on_App</th>\n",
       "      <th>Yearly_Amount_Spent</th>\n",
       "    </tr>\n",
       "  </thead>\n",
       "  <tbody>\n",
       "    <tr>\n",
       "      <th>Time_on_App</th>\n",
       "      <td>1.000000</td>\n",
       "      <td>0.499328</td>\n",
       "    </tr>\n",
       "    <tr>\n",
       "      <th>Yearly_Amount_Spent</th>\n",
       "      <td>0.499328</td>\n",
       "      <td>1.000000</td>\n",
       "    </tr>\n",
       "  </tbody>\n",
       "</table>\n",
       "</div>"
      ],
      "text/plain": [
       "                     Time_on_App  Yearly_Amount_Spent\n",
       "Time_on_App             1.000000             0.499328\n",
       "Yearly_Amount_Spent     0.499328             1.000000"
      ]
     },
     "execution_count": 24,
     "metadata": {},
     "output_type": "execute_result"
    }
   ],
   "source": [
    "#correlation netween Time_on_App and Yearly_Amount_Spent\n",
    "df2.corr()"
   ]
  },
  {
   "cell_type": "code",
   "execution_count": 28,
   "metadata": {},
   "outputs": [
    {
     "data": {
      "text/plain": [
       "<matplotlib.axes._subplots.AxesSubplot at 0x232431c8288>"
      ]
     },
     "execution_count": 28,
     "metadata": {},
     "output_type": "execute_result"
    },
    {
     "data": {
      "image/png": "[encoded data removed]",
      "text/plain": [
       "<Figure size 432x288 with 1 Axes>"
      ]
     },
     "metadata": {
      "needs_background": "light"
     },
     "output_type": "display_data"
    }
   ],
   "source": [
    "sns.lineplot(x=df2['Time_on_App'],y=df2['Yearly_Amount_Spent'])"
   ]
  },
  {
   "cell_type": "code",
   "execution_count": 75,
   "metadata": {},
   "outputs": [
    {
     "name": "stdout",
     "output_type": "stream",
     "text": [
      "[587.951054  392.2049334 487.5475049 581.852344  599.406092  637.1024479\n",
      " 521.5721748 549.9041461 570.200409  427.1993849 492.6060127 522.3374046\n",
      " 408.6403511 573.4158673 470.4527333 461.7807422 457.8476959 407.7045475\n",
      " 452.3156755 605.0610388 534.7057438 419.9387748 436.5156057 519.3409891\n",
      " 700.9170916 423.1799917 619.8956399 486.8389348 529.5376653 554.7220838\n",
      " 497.5866713 447.6879065 588.7126055 491.0732237 507.4418323 521.8835732\n",
      " 347.7769266 490.7386321 478.1703341 537.8461953 532.7517876 501.8744303\n",
      " 591.1971782 547.2443434 448.2298292 549.8605905 593.915003  563.6728734\n",
      " 479.7319491 416.3583536 725.5848141 442.6672517 384.6265716 451.4574469\n",
      " 522.4041413 483.673308  520.8987945 453.1695024 496.6507081 547.3651406\n",
      " 616.851523  507.212569  613.5993234 483.1597208 540.2634004 765.5184619\n",
      " 553.6015347 469.3108615 408.6201878 451.5756852 444.9665517 595.8228367\n",
      " 418.1500811 534.7771881 578.2416051 478.7193569 444.2859075 544.7798637\n",
      " 488.7860611 475.7590678 489.812488  462.8976362 596.4301726 338.3198626\n",
      " 533.5149353 536.7718994 487.379306  473.7289665 547.1259317 505.1133435\n",
      " 449.0703194 611.0000251 515.8288149 439.0747667 514.0889577 543.3401663\n",
      " 521.1429518 614.7153338 507.3900618 495.2994425 518.064558  390.103273\n",
      " 420.7376732 492.1050524 410.0696111 497.5136833 494.5518611 378.3309069\n",
      " 570.4517259 549.0082269 459.2851235 492.9450531 424.7626355 422.4267759\n",
      " 642.1015787 413.3717831 479.2310929 593.0772413 506.5473071 571.3074949\n",
      " 576.3111774 576.8025474 514.2395207 495.1759504 514.3365583 541.226584\n",
      " 516.8315567 468.4457372 548.2803202 431.6177338 552.9403455 573.3062223\n",
      " 452.627255  542.7115581 407.8040306 482.3535703 529.2300901 433.0487691\n",
      " 476.1914133 439.9978799 448.9332932 472.9922467 463.923513  350.0582002\n",
      " 460.0612774 505.7711403 463.4849954 479.7319376 424.1854943 465.8893127\n",
      " 426.775216  684.163431  555.8925954 657.0199239 595.8038189 503.9783791\n",
      " 586.1558702 744.2218671 512.8253581 528.2238094 468.9135013 357.5914394\n",
      " 536.4231045 490.2066    550.0475806 513.4505712 497.81193   578.9862586\n",
      " 506.5363931 501.7492333 421.9667942 439.8912805 666.1255917 298.7620079\n",
      " 465.1766233 373.8857237 532.7174857 554.900783  537.7731625 501.1002452\n",
      " 517.1651356 557.5292736 493.719193  452.1226251 577.273455  485.9231305\n",
      " 425.745092  537.2150527 524.6379646 478.8853913 612.3852299 476.7667242\n",
      " 505.1196375 545.9454921 434.0216998 424.675281  352.5501082 662.9610878\n",
      " 560.5601606 467.5019004 504.8704324 590.5627196 443.9656268 392.4973992\n",
      " 568.7175759 712.3963268 413.2959992 562.0820454 412.0129313 468.6684656\n",
      " 496.5540816 548.5185293 536.1308969 558.4272572 357.8637186 529.0566632\n",
      " 387.3570727 528.9336186 420.9161595 496.9334463 519.3729768 591.4377356\n",
      " 502.4097853 604.3348401 555.0683941 256.6705823 547.1109824 461.9208769\n",
      " 458.3769107 436.2834981 532.9352188 512.5525344 630.4227632 463.7459811\n",
      " 493.1802162 501.2091727 501.9282649 376.3369008 421.3266313 538.7749335\n",
      " 398.1634685 571.4710341 451.6286105 490.6004425 591.7810894 409.0704721\n",
      " 563.4460357 647.6194557 448.340425  518.7864831 523.6339351 393.857371\n",
      " 426.1545477 503.3878873 482.6024673 524.7976276 574.6548434 574.7472197\n",
      " 660.4251843 375.3984554 640.18774   514.0098178 376.4968407 484.5198091\n",
      " 614.7296376 567.4750105 554.0030934 399.9838716 479.1728515 585.9318443\n",
      " 540.9957391 628.0478039 582.4919237 640.7861664 446.4186734 570.6300981\n",
      " 423.3083341 616.660286  530.3624689 442.3631174 511.97986   560.4437922\n",
      " 475.2634237 374.2696745 463.591418  471.6028844 626.0186727 432.4720613\n",
      " 356.6155679 467.4278485 503.2173931 378.4735664 584.2183135 451.7278633\n",
      " 557.634109  432.7207178 506.42386   510.1598173 587.5747995 282.4712457\n",
      " 473.9498574 489.9080531 541.9722038 266.0863409 494.6871558 689.7876042\n",
      " 387.5347163 441.8966315 604.8413188 302.1895478 479.6148117 506.1323424\n",
      " 319.9288698 528.309225  610.1280331 584.105885  466.4211988 404.8245289\n",
      " 564.790969  596.516698  368.6547849 542.4124767 478.2621264 473.3604956\n",
      " 559.199048  447.1876443 505.2300683 557.2526867 422.3687366 445.0621855\n",
      " 442.0644138 533.0400602 424.2028271 498.6355985 330.594446  443.4418601\n",
      " 478.6009159 440.0027475 357.7831107 476.1392469 501.1224915 592.6884532\n",
      " 486.0834255 576.0252441 442.7228916 461.7909591 488.3875258 593.1564015\n",
      " 392.810345  443.197221  535.4807752 533.3965538 532.1274491 558.9481124\n",
      " 508.7719067 403.7669021 640.5840619 461.6282784 382.4161079 561.8746577\n",
      " 444.5761441 401.0331352 384.3260571 527.7829958 482.1449969 594.2744834\n",
      " 502.0925279 407.6571788 708.9351849 531.9615505 521.2407802 447.3690272\n",
      " 385.152338  430.5888826 418.6027421 478.9514048 483.7965221 538.9419745\n",
      " 486.1637991 385.0950071 527.7837898 547.1907494 410.6029439 583.977802\n",
      " 474.5323294 414.9350607 550.8133677 458.7811317 407.542168  581.3089329\n",
      " 546.5566669 503.1750852 549.1315733 482.8309859 557.6082621 484.8769649\n",
      " 669.9871405 547.7099886 537.8252823 408.2169018 663.0748176 506.3758668\n",
      " 528.4193297 632.1235881 488.270298  508.735741  411.1869636 409.0945262\n",
      " 467.8009244 512.1658664 608.2718166 589.0264898 444.0538266 493.1812614\n",
      " 532.7248055 275.9184207 511.0387861 438.417742  475.7250679 483.5431939\n",
      " 663.8036933 544.4092722 630.1567282 461.1122484 491.9115051 574.4156896\n",
      " 530.7667187 581.7987977 556.2981412 502.1327892 556.1863689 475.0716299\n",
      " 486.9470538 434.144202  304.1355916 571.2160048 583.0796357 445.7498412\n",
      " 392.9922559 565.9943634 499.1401524 510.5394217 308.5277466 561.516532\n",
      " 423.4705332 513.1531119 529.1945189 314.4385183 478.584286  444.582165\n",
      " 475.0154071 436.7205559 521.1953105 478.1830597 432.4811686 438.3037078\n",
      " 388.9405488 534.7714849 537.9157529 407.8763782 618.8459704 502.7710746\n",
      " 397.4205841 392.2852442 689.2356998 543.1326263 577.7360249 436.5807403\n",
      " 553.9946736 427.3565308 424.7287739 541.049831  469.3831462 444.5455497\n",
      " 492.5568337 535.3216101 408.9583359 487.5554581 487.6462317 402.1671222\n",
      " 551.0230017 497.3895578 494.6386098 479.2474168 462.6565189 515.5024797\n",
      " 576.4776072 357.8579836 597.7398789 327.3779526 510.4013885 510.5014785\n",
      " 403.8195198 627.6033187 510.6617922 573.8474377 529.0490041 551.6201455\n",
      " 456.4695101 497.7786422]\n"
     ]
    }
   ],
   "source": [
    "#loading dependent data\n",
    "y=df['Yearly_Amount_Spent'].values\n",
    "print(y)"
   ]
  },
  {
   "cell_type": "code",
   "execution_count": 90,
   "metadata": {},
   "outputs": [
    {
     "name": "stdout",
     "output_type": "stream",
     "text": [
      "[[34.49726773 12.65565115 39.57766802  4.08262063]\n",
      " [31.92627203 11.10946073 37.26895887  2.66403418]\n",
      " [33.00091476 11.33027806 37.11059744  4.1045432 ]\n",
      " ...\n",
      " [32.64677668 11.49940906 38.33257633  4.95826447]\n",
      " [33.32250105 12.39142299 36.84008573  2.33648467]\n",
      " [33.71598092 12.41880832 35.77101619  2.73515957]]\n"
     ]
    }
   ],
   "source": [
    "#loading independent data\n",
    "X=df.iloc[:,[3,4,5,6]].values\n",
    "print(X)"
   ]
  },
  {
   "cell_type": "code",
   "execution_count": 91,
   "metadata": {},
   "outputs": [],
   "source": [
    "#relevant machine learning algorithms\n",
    "from sklearn import datasets,linear_model,metrics\n",
    "from sklearn.model_selection import train_test_split\n"
   ]
  },
  {
   "cell_type": "code",
   "execution_count": 92,
   "metadata": {},
   "outputs": [],
   "source": [
    "X_train,X_test,y_train,y_test=train_test_split(X,y,test_size=0.25,random_state=85)"
   ]
  },
  {
   "cell_type": "code",
   "execution_count": 67,
   "metadata": {},
   "outputs": [],
   "source": []
  },
  {
   "cell_type": "code",
   "execution_count": 93,
   "metadata": {},
   "outputs": [],
   "source": [
    "#using linear regression\n",
    "reg=linear_model.LinearRegression()"
   ]
  },
  {
   "cell_type": "code",
   "execution_count": 94,
   "metadata": {},
   "outputs": [
    {
     "data": {
      "text/plain": [
       "LinearRegression(copy_X=True, fit_intercept=True, n_jobs=None, normalize=False)"
      ]
     },
     "execution_count": 94,
     "metadata": {},
     "output_type": "execute_result"
    }
   ],
   "source": [
    "reg.fit(X_train, y_train)"
   ]
  },
  {
   "cell_type": "code",
   "execution_count": 96,
   "metadata": {},
   "outputs": [
    {
     "name": "stdout",
     "output_type": "stream",
     "text": [
      "Variance score: 0.9786191821901723\n"
     ]
    }
   ],
   "source": [
    "#variance score: 1 means perfect prediction \n",
    "print('Variance score: {}'.format(reg.score(X_test, y_test))) "
   ]
  },
  {
   "cell_type": "code",
   "execution_count": 100,
   "metadata": {},
   "outputs": [
    {
     "data": {
      "image/png": "[encoded data removed]",
      "text/plain": [
       "<Figure size 432x288 with 1 Axes>"
      ]
     },
     "metadata": {},
     "output_type": "display_data"
    }
   ],
   "source": [
    "## setting plot style \n",
    "plt.style.use('fivethirtyeight')\n",
    "\n",
    "## plotting residual errors in training data \n",
    "plt.scatter(reg.predict(X_train), reg.predict(X_train) - y_train, \n",
    "            color = \"green\", label = 'Train data') \n",
    "\n",
    "## plotting residual errors in test data \n",
    "plt.scatter(reg.predict(X_test), reg.predict(X_test) - y_test, \n",
    "            color = \"blue\", label = 'Test data')\n",
    "\n",
    "## plotting line for zero residual error \n",
    "plt.hlines(y = 0, xmin = 0, xmax = 50, linewidth = 2) \n",
    "\n",
    "## plotting legend \n",
    "plt.legend(loc = 'upper right') \n",
    "\n",
    "## plot title \n",
    "plt.title(\"Residual errors\") \n",
    "  \n",
    "## function to show plot \n",
    "plt.show() "
   ]
  }
 ],
 "metadata": {
  "kernelspec": {
   "display_name": "Python 3",
   "language": "python",
   "name": "python3"
  },
  "language_info": {
   "codemirror_mode": {
    "name": "ipython",
    "version": 3
   },
   "file_extension": ".py",
   "mimetype": "text/x-python",
   "name": "python",
   "nbconvert_exporter": "python",
   "pygments_lexer": "ipython3",
   "version": "3.7.6"
  }
 },
 "nbformat": 4,
 "nbformat_minor": 4
}
